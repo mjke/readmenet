{
 "cells": [
  {
   "cell_type": "code",
   "execution_count": 1,
   "metadata": {},
   "outputs": [
    {
     "name": "stdout",
     "output_type": "stream",
     "text": [
      "env: GRADIO_SERVER_NAME=0.0.0.0\n"
     ]
    },
    {
     "name": "stderr",
     "output_type": "stream",
     "text": [
      "/usr/local/lib/python3.11/site-packages/tqdm/auto.py:21: TqdmWarning: IProgress not found. Please update jupyter and ipywidgets. See https://ipywidgets.readthedocs.io/en/stable/user_install.html\n",
      "  from .autonotebook import tqdm as notebook_tqdm\n"
     ]
    }
   ],
   "source": [
    "%env GRADIO_SERVER_NAME 0.0.0.0\n",
    "%load_ext gradio\n",
    "\n",
    "# https://gradio.app/developing-faster-with-reload-mode/#jupyter-notebook-magic\n",
    "# https://gradio.app/docs"
   ]
  },
  {
   "cell_type": "code",
   "execution_count": 2,
   "metadata": {},
   "outputs": [],
   "source": [
    "import importlib\n",
    "import webapp\n",
    "importlib.reload(webapp)\n",
    "from webapp import (\n",
    "    DIR_DATA_DOCS,\n",
    "    HAS_MEMORY,\n",
    "    load_data_directory,\n",
    "    run_query,\n",
    "    get_vectorstore_sources,\n",
    "    del_vectorstore_docs,\n",
    "    get_chromadb,\n",
    ")\n",
    "import gradio as gr"
   ]
  },
  {
   "cell_type": "code",
   "execution_count": 3,
   "metadata": {},
   "outputs": [
    {
     "name": "stdout",
     "output_type": "stream",
     "text": [
      "Running on local URL:  http://0.0.0.0:7860\n"
     ]
    },
    {
     "data": {
      "text/html": [
       "<div><iframe src=\"http://localhost:7860/\" width=\"100%\" height=\"500\" allow=\"autoplay; camera; microphone; clipboard-read; clipboard-write;\" frameborder=\"0\" allowfullscreen></iframe></div>"
      ],
      "text/plain": [
       "<IPython.core.display.HTML object>"
      ]
     },
     "metadata": {},
     "output_type": "display_data"
    }
   ],
   "source": [
    "%%blocks\n",
    "\n",
    "gr.Markdown(\"# LLM ADVISOR\")\n",
    "with gr.Tab(\"Chat\"):\n",
    "    gr.Markdown(f\"Chat memory is{' **NOT**' if not HAS_MEMORY else ''} active\")\n",
    "    chatbot = gr.Chatbot()\n",
    "    text_query = gr.Textbox(label=\"Query\", lines=6, placeholder=\"Query here...\")\n",
    "    button_clear = gr.Button(\"Clear\")\n",
    "with gr.Tab(\"Load docs\"):\n",
    "    data_dir = gr.Textbox(label=\"Data directory\", value=DIR_DATA_DOCS)\n",
    "    text_outcome = gr.Textbox(label=\"Outcome\")\n",
    "    button_load = gr.Button(\"Load docs into vectorDB\")\n",
    "with gr.Tab('Manage docs'):\n",
    "    boxes_sources = gr.CheckboxGroup(get_vectorstore_sources(), label=\"Docs\", info=\"Stored in vectordb\")\n",
    "    button_delete = gr.Button(\"Delete selected docs\")\n",
    "\n",
    "# chatbot\n",
    "text_query.submit(run_query, inputs = [text_query, chatbot], outputs = [text_query, chatbot])\n",
    "button_clear.click(lambda: None, None, chatbot, queue = False)\n",
    "\n",
    "# config\n",
    "button_load.click(load_data_directory, inputs=data_dir, outputs=[text_outcome, boxes_sources])\n",
    "button_delete.click(del_vectorstore_docs, inputs=boxes_sources, outputs=boxes_sources)\n"
   ]
  }
 ],
 "metadata": {
  "kernelspec": {
   "display_name": "Python 3",
   "language": "python",
   "name": "python3"
  },
  "language_info": {
   "codemirror_mode": {
    "name": "ipython",
    "version": 3
   },
   "file_extension": ".py",
   "mimetype": "text/x-python",
   "name": "python",
   "nbconvert_exporter": "python",
   "pygments_lexer": "ipython3",
   "version": "3.11.3"
  },
  "orig_nbformat": 4
 },
 "nbformat": 4,
 "nbformat_minor": 2
}
