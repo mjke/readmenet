{
 "cells": [
  {
   "cell_type": "code",
   "execution_count": null,
   "metadata": {},
   "outputs": [],
   "source": [
    "%env GRADIO_SERVER_NAME 0.0.0.0\n",
    "%load_ext gradio\n",
    "\n",
    "# https://gradio.app/developing-faster-with-reload-mode/#jupyter-notebook-magic\n",
    "# https://gradio.app/docs"
   ]
  },
  {
   "cell_type": "code",
   "execution_count": null,
   "metadata": {},
   "outputs": [],
   "source": [
    "import importlib\n",
    "import webapp\n",
    "importlib.reload(webapp)\n",
    "from webapp import (\n",
    "    DIR_DATA_DOCS,\n",
    "    load_data_directory,\n",
    "    run_query,\n",
    "    get_vectorstore_sources,\n",
    "    del_vectorstore_docs,\n",
    "    get_chromadb,\n",
    ")\n",
    "import gradio as gr"
   ]
  },
  {
   "cell_type": "code",
   "execution_count": null,
   "metadata": {},
   "outputs": [],
   "source": [
    "%%blocks\n",
    "\n",
    "gr.Markdown(\"# LLM ADVISOR\")\n",
    "with gr.Tab(\"Chat\"):\n",
    "    chatbot = gr.Chatbot()\n",
    "    text_query = gr.Textbox(label=\"Query\", lines=6, placeholder=\"Query here...\")\n",
    "    button_clear = gr.Button(\"Clear\")\n",
    "with gr.Tab(\"Load docs\"):\n",
    "    data_dir = gr.Textbox(label=\"Data directory\", value=DIR_DATA_DOCS)\n",
    "    text_outcome = gr.Textbox(label=\"Outcome\")\n",
    "    button_load = gr.Button(\"Process data\")\n",
    "with gr.Tab('Manage docs'):\n",
    "    boxes_sources = gr.CheckboxGroup(get_vectorstore_sources(), label=\"Docs\", info=\"Stored in vectordb\")\n",
    "    button_delete = gr.Button(\"Delete selected docs\")\n",
    "\n",
    "# chatbot\n",
    "text_query.submit(run_query, inputs = [text_query, chatbot], outputs = [text_query, chatbot])\n",
    "button_clear.click(lambda: None, None, chatbot, queue = False)\n",
    "\n",
    "# config\n",
    "button_load.click(load_data_directory, inputs=data_dir, outputs=[text_outcome, boxes_sources])\n",
    "button_delete.click(del_vectorstore_docs, inputs=boxes_sources, outputs=boxes_sources)\n"
   ]
  }
 ],
 "metadata": {
  "kernelspec": {
   "display_name": "Python 3",
   "language": "python",
   "name": "python3"
  },
  "language_info": {
   "codemirror_mode": {
    "name": "ipython",
    "version": 3
   },
   "file_extension": ".py",
   "mimetype": "text/x-python",
   "name": "python",
   "nbconvert_exporter": "python",
   "pygments_lexer": "ipython3",
   "version": "3.11.3"
  },
  "orig_nbformat": 4
 },
 "nbformat": 4,
 "nbformat_minor": 2
}
